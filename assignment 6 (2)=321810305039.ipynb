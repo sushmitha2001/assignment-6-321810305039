{
 "cells": [
  {
   "cell_type": "markdown",
   "metadata": {},
   "source": [
    "3. program to find greatest common divisor"
   ]
  },
  {
   "cell_type": "code",
   "execution_count": 13,
   "metadata": {},
   "outputs": [
    {
     "ename": "SyntaxError",
     "evalue": "'return' outside function (<ipython-input-13-b8ed8162005d>, line 4)",
     "output_type": "error",
     "traceback": [
      "\u001b[1;36m  File \u001b[1;32m\"<ipython-input-13-b8ed8162005d>\"\u001b[1;36m, line \u001b[1;32m4\u001b[0m\n\u001b[1;33m    return n2\u001b[0m\n\u001b[1;37m    ^\u001b[0m\n\u001b[1;31mSyntaxError\u001b[0m\u001b[1;31m:\u001b[0m 'return' outside function\n"
     ]
    }
   ],
   "source": [
    "\n",
    "def gcd(n1,n2): \n",
    " gcd=1\n",
    "if n1%n2==0:\n",
    "  return n2\n",
    "for k in range(int(n1/n2),0,-1):\n",
    " if n1%k==0 and n2%k==0:\n",
    "  gcd=k\n",
    "break\n",
    "return gcd\n",
    "print(gcd(12,13))"
   ]
  },
  {
   "cell_type": "markdown",
   "metadata": {},
   "source": [
    "#### 4. program to count the numbers of even and odd numbers from a series of numbers"
   ]
  },
  {
   "cell_type": "code",
   "execution_count": 9,
   "metadata": {},
   "outputs": [
    {
     "name": "stdout",
     "output_type": "stream",
     "text": [
      "even numbers : 5\n",
      "odd numbers: 4\n"
     ]
    }
   ],
   "source": [
    "c_o=0\n",
    "c_e=0\n",
    "for x in[1,2,3,4,5,6,7,8,9]:\n",
    "     if not x%2:\n",
    "        c_o+=1\n",
    "     else:\n",
    "        c_e+=1\n",
    "print(\"even numbers :\",c_e)\n",
    "print(\"odd numbers:\",c_o)"
   ]
  },
  {
   "cell_type": "code",
   "execution_count": null,
   "metadata": {},
   "outputs": [],
   "source": [
    "5. print the numbers from 0 to 6 except 3 and 6"
   ]
  },
  {
   "cell_type": "code",
   "execution_count": 11,
   "metadata": {},
   "outputs": [
    {
     "name": "stdout",
     "output_type": "stream",
     "text": [
      "0\n",
      "1\n",
      "2\n",
      "4\n",
      "5\n"
     ]
    }
   ],
   "source": [
    "for i in range(0,6):\n",
    " if i==3:\n",
    "  continue\n",
    " print(i)"
   ]
  }
 ],
 "metadata": {
  "kernelspec": {
   "display_name": "Python 3",
   "language": "python",
   "name": "python3"
  },
  "language_info": {
   "codemirror_mode": {
    "name": "ipython",
    "version": 3
   },
   "file_extension": ".py",
   "mimetype": "text/x-python",
   "name": "python",
   "nbconvert_exporter": "python",
   "pygments_lexer": "ipython3",
   "version": "3.7.6"
  }
 },
 "nbformat": 4,
 "nbformat_minor": 4
}
