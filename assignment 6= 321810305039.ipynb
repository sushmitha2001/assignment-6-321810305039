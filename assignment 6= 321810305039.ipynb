{
 "cells": [
  {
   "cell_type": "markdown",
   "metadata": {},
   "source": [
    "###1. Generate 1st n numbers of fibonacci numbers. take n value from user"
   ]
  },
  {
   "cell_type": "code",
   "execution_count": null,
   "metadata": {},
   "outputs": [],
   "source": [
    "def fib(n):\n",
    "### n=int(input(\"enter the number\"))\n",
    "if n<0:\n",
    "  print(\"incorrect input\")\n",
    " elif n==1:\n",
    "  print(0)\n",
    " elif n==2:\n",
    " ### print(1)\n",
    "        return 1\n",
    " else:\n",
    "  fib(n-1)+fib(n-2)\n",
    "print(fib(9))"
   ]
  },
  {
   "cell_type": "markdown",
   "metadata": {},
   "source": [
    "###3 Find greatest common divisor of two numbers"
   ]
  },
  {
   "cell_type": "code",
   "execution_count": null,
   "metadata": {},
   "outputs": [],
   "source": [
    "def gcd(n1,n2): \n",
    " gcd=1\n",
    "if n1%n2==0:\n",
    "  return n2\n",
    "for k in range(int(n1/n2),0,-1):\n",
    " if n1%k==0 and n2%k==0:\n",
    " gcd=k\n",
    "break\n",
    "return gcd\n",
    "print(gcd(12,13))"
   ]
  },
  {
   "cell_type": "markdown",
   "metadata": {},
   "source": [
    "###3 Find highest common factor of two numbers"
   ]
  },
  {
   "cell_type": "code",
   "execution_count": null,
   "metadata": {},
   "outputs": [],
   "source": [
    "def hcf(n1,n2):\n",
    " if n1>n2:\n",
    "  smaller=n2\n",
    " else:\n",
    "  smaller=n1\n",
    " for i in range(1,smaller+1):\n",
    "   if((n1%i==0) and (n2%i==0)):\n",
    "    hcf=i\n",
    " return hcf\n",
    "print(hcf(20,30))"
   ]
  },
  {
   "cell_type": "markdown",
   "metadata": {},
   "source": [
    "4. program to count the number of even and odd numbers from a series of numbers"
   ]
  },
  {
   "cell_type": "code",
   "execution_count": null,
   "metadata": {},
   "outputs": [],
   "source": [
    "count_odd=0\n",
    "count_even=0\n",
    " for x in[1,2,3,4,5,6,7,8,9]:\n",
    "      if not x%2:\n",
    "       count_even+=1\n",
    "      else:\n",
    "       count_odd+=1\n",
    "print(\"even numbers:\",count_even)\n",
    "print(\"odd numbers:\",count_odd)"
   ]
  },
  {
   "cell_type": "markdown",
   "metadata": {},
   "source": [
    "###5 print the numbers from 0 to 6 except 3 and 6"
   ]
  },
  {
   "cell_type": "code",
   "execution_count": null,
   "metadata": {},
   "outputs": [],
   "source": [
    " for i in range(0,6):\n",
    "     if i=3:\n",
    "      continue\n",
    "     print(i)"
   ]
  },
  {
   "cell_type": "code",
   "execution_count": null,
   "metadata": {},
   "outputs": [],
   "source": []
  }
 ],
 "metadata": {
  "kernelspec": {
   "display_name": "Python 3",
   "language": "python",
   "name": "python3"
  },
  "language_info": {
   "codemirror_mode": {
    "name": "ipython",
    "version": 3
   },
   "file_extension": ".py",
   "mimetype": "text/x-python",
   "name": "python",
   "nbconvert_exporter": "python",
   "pygments_lexer": "ipython3",
   "version": "3.7.6"
  }
 },
 "nbformat": 4,
 "nbformat_minor": 4
}
